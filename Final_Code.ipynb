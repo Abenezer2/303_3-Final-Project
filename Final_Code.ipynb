{
 "cells": [
  {
   "cell_type": "code",
   "execution_count": 1,
   "id": "4dd292dc",
   "metadata": {
    "id": "4dd292dc"
   },
   "outputs": [],
   "source": [
    "import pandas as pd\n",
    "import numpy as np\n",
    "import seaborn as sns\n",
    "import matplotlib.pyplot as plt\n",
    "from sklearn.metrics import mean_squared_error\n",
    "from sklearn.model_selection import cross_val_score,train_test_split, KFold, cross_val_predict\n",
    "from sklearn.metrics import mean_absolute_error, mean_squared_error,r2_score,roc_curve,auc,precision_recall_curve, accuracy_score, \\\n",
    "recall_score, precision_score, confusion_matrix\n",
    "from sklearn.tree import DecisionTreeRegressor,DecisionTreeClassifier\n",
    "from sklearn.model_selection import GridSearchCV, ParameterGrid, StratifiedKFold, RandomizedSearchCV\n",
    "from sklearn.ensemble import VotingRegressor, VotingClassifier, StackingRegressor, StackingClassifier, GradientBoostingRegressor,GradientBoostingClassifier, BaggingRegressor,BaggingClassifier,RandomForestRegressor,RandomForestClassifier,AdaBoostRegressor,AdaBoostClassifier\n",
    "from sklearn.linear_model import LinearRegression,LogisticRegression, LassoCV, RidgeCV, ElasticNetCV\n",
    "from sklearn.compose import TransformedTargetRegressor\n",
    "\n",
    "from sklearn.neighbors import KNeighborsRegressor\n",
    "import itertools as it\n",
    "import time as time\n",
    "import xgboost as xgb\n",
    "from pyearth import Earth\n",
    "from tensorflow.keras.layers import Input, Dense\n",
    "from tensorflow.keras.models import Model\n",
    "import tensorflow as tf\n",
    "from catboost import CatBoostRegressor\n"
   ]
  },
  {
   "cell_type": "code",
   "execution_count": null,
   "id": "Y1JWNUq-JNbr",
   "metadata": {
    "id": "Y1JWNUq-JNbr"
   },
   "outputs": [],
   "source": [
    "pip install catboost"
   ]
  },
  {
   "cell_type": "code",
   "execution_count": null,
   "id": "C8e14IDri-t9",
   "metadata": {
    "id": "C8e14IDri-t9"
   },
   "outputs": [],
   "source": [
    "!git clone --single-branch --branch v0.2dev https://github.com/scikit-learn-contrib/py-earth.git\n",
    "%cd py-earth\n",
    "!python setup.py install --cythonize"
   ]
  },
  {
   "cell_type": "code",
   "execution_count": 3,
   "id": "667b9ca1",
   "metadata": {
    "id": "667b9ca1"
   },
   "outputs": [],
   "source": [
    "data = pd.read_csv('OnlineNewsPopularity/OnlineNewsPopularity.csv')\n",
    "data.columns = [x.strip() for x in data.columns.tolist()]\n",
    "X = data.drop(columns = ['weekday_is_monday',\n",
    " 'weekday_is_saturday',\n",
    " 'LDA_00',\n",
    " 'n_unique_tokens',\n",
    " 'n_non_stop_words',\n",
    " 'self_reference_avg_sharess',\n",
    " 'rate_positive_words',\n",
    " 'LDA_04',\n",
    " 'LDA_02',\n",
    " 'kw_max_max',\n",
    " 'kw_avg_min',\n",
    " 'kw_avg_avg',\n",
    " 'rate_negative_words',\n",
    " 'min_negative_polarity', 'url', 'timedelta', 'shares'])\n",
    "y = data['shares']\n",
    "X_train, X_test, y_train, y_test = train_test_split(X, y, test_size = 0.2, random_state = 45)"
   ]
  },
  {
   "cell_type": "markdown",
   "id": "90e78020",
   "metadata": {
    "id": "90e78020"
   },
   "source": [
    "# Random Forest Model"
   ]
  },
  {
   "cell_type": "code",
   "execution_count": null,
   "id": "6680ed0c",
   "metadata": {
    "id": "6680ed0c",
    "scrolled": true
   },
   "outputs": [],
   "source": [
    "random_forest_model = RandomForestRegressor(max_depth = 20, bootstrap = True, max_features = 10, n_estimators = 400, \n",
    "                                            oob_score = True)\n",
    "random_forest_model = TransformedTargetRegressor(random_forest_model, func = np.log, \n",
    "                                                 inverse_func = np.exp).fit(X_train, y_train)"
   ]
  },
  {
   "cell_type": "code",
   "execution_count": null,
   "id": "3a995c2d",
   "metadata": {
    "colab": {
     "base_uri": "https://localhost:8080/"
    },
    "executionInfo": {
     "elapsed": 862,
     "status": "ok",
     "timestamp": 1684878158102,
     "user": {
      "displayName": "Abenezer Solomon",
      "userId": "12201282014134279159"
     },
     "user_tz": 300
    },
    "id": "3a995c2d",
    "outputId": "2bb9cdc3-7114-4c4f-cfaa-dd3a3e2b7922"
   },
   "outputs": [],
   "source": [
    "mean_absolute_error(y_test, random_forest_model.predict(X_test))"
   ]
  },
  {
   "cell_type": "markdown",
   "id": "5ad9c3d9",
   "metadata": {
    "id": "5ad9c3d9"
   },
   "source": [
    "# XGBoost"
   ]
  },
  {
   "cell_type": "code",
   "execution_count": null,
   "id": "34a2af50",
   "metadata": {
    "colab": {
     "base_uri": "https://localhost:8080/",
     "height": 117
    },
    "executionInfo": {
     "elapsed": 89976,
     "status": "ok",
     "timestamp": 1684898673859,
     "user": {
      "displayName": "Abenezer Solomon",
      "userId": "12201282014134279159"
     },
     "user_tz": 300
    },
    "id": "34a2af50",
    "outputId": "e35da92b-b8ae-4a89-c1df-1873c0a2e0ce"
   },
   "outputs": [],
   "source": [
    "xgb_model = xgb.XGBRegressor(random_state = 1, max_depth = 4, learning_rate = 0.005,\n",
    "                        n_estimators = 1000,reg_lambda = 0, reg_alpha = 3, gamma = 6, subsample = 0.65, \n",
    "                         colsample_bytree = 0.7, eval_metric = mean_absolute_error)\n",
    "xgb_model = TransformedTargetRegressor(xgb_model, func = np.log, inverse_func = np.exp)\n",
    "\n",
    "xgb_model.fit(X_train, y_train)"
   ]
  },
  {
   "cell_type": "code",
   "execution_count": null,
   "id": "af1ad820",
   "metadata": {
    "colab": {
     "base_uri": "https://localhost:8080/"
    },
    "executionInfo": {
     "elapsed": 662,
     "status": "ok",
     "timestamp": 1684878530115,
     "user": {
      "displayName": "Abenezer Solomon",
      "userId": "12201282014134279159"
     },
     "user_tz": 300
    },
    "id": "af1ad820",
    "outputId": "4b02ffea-37c7-4543-9712-1bf6e7ae683b"
   },
   "outputs": [],
   "source": [
    "mean_absolute_error(y_test, xgb_model.predict(X_test))"
   ]
  },
  {
   "cell_type": "markdown",
   "id": "f4d8ba1f",
   "metadata": {
    "id": "f4d8ba1f"
   },
   "source": [
    "# Mars"
   ]
  },
  {
   "cell_type": "code",
   "execution_count": null,
   "id": "J2CV-vzBmAWz",
   "metadata": {
    "colab": {
     "base_uri": "https://localhost:8080/"
    },
    "executionInfo": {
     "elapsed": 263537,
     "status": "ok",
     "timestamp": 1684893444391,
     "user": {
      "displayName": "Abenezer Solomon",
      "userId": "12201282014134279159"
     },
     "user_tz": 300
    },
    "id": "J2CV-vzBmAWz",
    "outputId": "b71e0df2-60f2-4481-9a15-a39b727d606b"
   },
   "outputs": [],
   "source": [
    "from sklearn.model_selection import GridSearchCV, KFold\n",
    "from pyearth import Earth\n",
    "\n",
    "# Define the model\n",
    "mars_model = Earth()\n",
    "\n",
    "# Define the parameters\n",
    "parameters = {'max_terms': [300,500,1000],\n",
    "              'max_degree': [1,2,3,4]}\n",
    "\n",
    "# Define the cross-validator\n",
    "CV = KFold(n_splits = 5, shuffle=True, random_state=1)\n",
    "\n",
    "# Initialize the GridSearchCV object\n",
    "model = GridSearchCV(estimator=mars_model, \n",
    "                     param_grid=parameters, \n",
    "                     cv=CV, \n",
    "                     n_jobs=-1, \n",
    "                     verbose=1, \n",
    "                     scoring='neg_mean_absolute_error')\n",
    "\n",
    "# Fit the GridSearchCV object to the data\n",
    "model.fit(X_train, y_train)  \n",
    "\n",
    "# Print the best score and best parameters\n",
    "print('Best score:', model.best_score_)\n",
    "print('Best parameters:', model.best_params_)\n"
   ]
  },
  {
   "cell_type": "code",
   "execution_count": null,
   "id": "81221ec0",
   "metadata": {
    "id": "81221ec0"
   },
   "outputs": [],
   "source": [
    "mars_model = Earth(max_terms = 500, max_degree = 2)\n",
    "mars_model = TransformedTargetRegressor(mars_model, func = np.log, inverse_func = np.exp).fit(X_train, y_train)"
   ]
  },
  {
   "cell_type": "code",
   "execution_count": null,
   "id": "-ChkPn_8bhmR",
   "metadata": {
    "colab": {
     "base_uri": "https://localhost:8080/"
    },
    "executionInfo": {
     "elapsed": 150,
     "status": "ok",
     "timestamp": 1684898552595,
     "user": {
      "displayName": "Abenezer Solomon",
      "userId": "12201282014134279159"
     },
     "user_tz": 300
    },
    "id": "-ChkPn_8bhmR",
    "outputId": "f28a951d-b9b8-44f7-f592-350296eedcc3"
   },
   "outputs": [],
   "source": [
    "mean_absolute_error(y_train, mars_model.predict(X_train))"
   ]
  },
  {
   "cell_type": "code",
   "execution_count": null,
   "id": "94134c8d",
   "metadata": {
    "colab": {
     "base_uri": "https://localhost:8080/"
    },
    "executionInfo": {
     "elapsed": 145,
     "status": "ok",
     "timestamp": 1684898554049,
     "user": {
      "displayName": "Abenezer Solomon",
      "userId": "12201282014134279159"
     },
     "user_tz": 300
    },
    "id": "94134c8d",
    "outputId": "eba7adfd-c28e-46ea-b8e2-6e790ddb7776"
   },
   "outputs": [],
   "source": [
    "mean_absolute_error(y_test, mars_model.predict(X_test))"
   ]
  },
  {
   "cell_type": "markdown",
   "id": "Uq0FIYsjBKP6",
   "metadata": {
    "id": "Uq0FIYsjBKP6"
   },
   "source": [
    "## CatBoostRegressor\n",
    "\n"
   ]
  },
  {
   "cell_type": "code",
   "execution_count": null,
   "id": "bIIagU2EJarM",
   "metadata": {
    "colab": {
     "base_uri": "https://localhost:8080/"
    },
    "executionInfo": {
     "elapsed": 182,
     "status": "ok",
     "timestamp": 1684887947384,
     "user": {
      "displayName": "Abenezer Solomon",
      "userId": "12201282014134279159"
     },
     "user_tz": 300
    },
    "id": "bIIagU2EJarM",
    "outputId": "f25eadbe-dc9f-44e0-ac94-b0e0e36bf9da"
   },
   "outputs": [],
   "source": [
    "X_train.shape"
   ]
  },
  {
   "cell_type": "code",
   "execution_count": null,
   "id": "oMMeDq4yBOIi",
   "metadata": {
    "colab": {
     "base_uri": "https://localhost:8080/"
    },
    "executionInfo": {
     "elapsed": 1623217,
     "status": "ok",
     "timestamp": 1684889705896,
     "user": {
      "displayName": "Abenezer Solomon",
      "userId": "12201282014134279159"
     },
     "user_tz": 300
    },
    "id": "oMMeDq4yBOIi",
    "outputId": "2b216bb1-0ef6-4dba-b0b2-3b6cd2cd3654"
   },
   "outputs": [
    {
     "name": "stdout",
     "output_type": "stream",
     "text": [
      "Fitting 5 folds for each of 200 candidates, totalling 1000 fits\n"
     ]
    },
    {
     "name": "stderr",
     "output_type": "stream",
     "text": [
      "/usr/local/lib/python3.10/dist-packages/sklearn/model_selection/_validation.py:378: FitFailedWarning: \n",
      "645 fits failed out of a total of 1000.\n",
      "The score on these train-test partitions for these parameters will be set to nan.\n",
      "If these failures are not expected, you can try to debug them by setting error_score='raise'.\n",
      "\n",
      "Below are more details about the failures:\n",
      "--------------------------------------------------------------------------------\n",
      "645 fits failed with the following error:\n",
      "Traceback (most recent call last):\n",
      "  File \"/usr/local/lib/python3.10/dist-packages/sklearn/model_selection/_validation.py\", line 686, in _fit_and_score\n",
      "    estimator.fit(X_train, y_train, **fit_params)\n",
      "  File \"/usr/local/lib/python3.10/dist-packages/catboost/core.py\", line 5734, in fit\n",
      "    return self._fit(X, y, cat_features, text_features, embedding_features, None, sample_weight, None, None, None, None, baseline,\n",
      "  File \"/usr/local/lib/python3.10/dist-packages/catboost/core.py\", line 2341, in _fit\n",
      "    train_params = self._prepare_train_params(\n",
      "  File \"/usr/local/lib/python3.10/dist-packages/catboost/core.py\", line 2268, in _prepare_train_params\n",
      "    _check_train_params(params)\n",
      "  File \"_catboost.pyx\", line 6084, in _catboost._check_train_params\n",
      "  File \"_catboost.pyx\", line 6103, in _catboost._check_train_params\n",
      "_catboost.CatBoostError: /src/catboost/catboost/private/libs/options/catboost_options.cpp:984: max_leaves option works only with lossguide tree growing\n",
      "\n",
      "  warnings.warn(some_fits_failed_message, FitFailedWarning)\n",
      "/usr/local/lib/python3.10/dist-packages/sklearn/model_selection/_search.py:952: UserWarning: One or more of the test scores are non-finite: [        nan         nan         nan         nan         nan         nan\n",
      "         nan  0.01826727         nan         nan  0.02000909  0.01951761\n",
      "         nan         nan  0.01915991 -0.01742069         nan         nan\n",
      "         nan -0.03735851         nan         nan         nan         nan\n",
      "         nan         nan  0.01980401         nan  0.02033898         nan\n",
      " -0.0034037          nan         nan -0.02950662 -0.11848594  0.01708253\n",
      "         nan         nan         nan         nan         nan -0.04736993\n",
      "         nan  0.01683135  0.01229945  0.01932866  0.01922498         nan\n",
      "  0.01959686  0.01861712         nan  0.01861078  0.01061811         nan\n",
      "  0.02117414         nan         nan         nan         nan         nan\n",
      "         nan         nan         nan         nan -0.02435373  0.01251464\n",
      "         nan         nan         nan         nan -0.0250912          nan\n",
      "         nan         nan  0.02188239 -0.0527272          nan  0.01561373\n",
      "  0.00712431         nan -0.05915783  0.00158151  0.01873462         nan\n",
      " -0.01113491         nan         nan         nan  0.02027282         nan\n",
      "         nan         nan         nan         nan         nan  0.01941089\n",
      "  0.01171464         nan         nan         nan         nan         nan\n",
      "         nan         nan  0.0064221          nan         nan         nan\n",
      "  0.02035463         nan  0.01499754  0.01939463 -0.07530547  0.01868633\n",
      "  0.02196836         nan         nan         nan         nan  0.01946424\n",
      "         nan         nan         nan         nan         nan  0.01744347\n",
      "  0.01188446         nan         nan  0.01896053  0.01186424  0.01008192\n",
      "         nan         nan         nan         nan         nan -0.03035396\n",
      "         nan  0.01692826         nan -0.03168951         nan         nan\n",
      "  0.01917168 -0.06230177  0.02045952         nan         nan -0.04710644\n",
      "         nan         nan         nan  0.01646287 -0.10474181         nan\n",
      "         nan  0.02078703         nan         nan         nan         nan\n",
      "  0.01564076         nan         nan  0.00485461         nan         nan\n",
      "  0.01193982         nan         nan -0.09389449  0.02034805         nan\n",
      "         nan         nan         nan         nan         nan         nan\n",
      "  0.01206365         nan  0.01103378         nan  0.02171687         nan\n",
      "         nan         nan         nan         nan         nan         nan\n",
      "  0.01516606  0.02012551         nan         nan         nan         nan\n",
      "  0.00087142  0.0199857 ]\n",
      "  warnings.warn(\n"
     ]
    },
    {
     "name": "stdout",
     "output_type": "stream",
     "text": [
      "Optimal parameter values = {'subsample': 0.75, 'reg_lambda': 10, 'num_leaves': 31, 'n_estimators': 1000, 'max_depth': 6, 'learning_rate': 0.01}\n",
      "Optimal cross validation R-squared =  0.02196835563330628\n",
      "Time taken =  27  minutes\n"
     ]
    }
   ],
   "source": [
    "#K-fold cross validation to find optimal parameters for CatBoost regressor\n",
    "start_time = time.time()\n",
    "param_grid = {'max_depth': [4,6,8],\n",
    "              'num_leaves': [20, 31, 40],\n",
    "              'learning_rate': [0.01, 0.05, 0.1],\n",
    "               'reg_lambda':[0, 10, 100],\n",
    "                'n_estimators':[100, 500, 1000],\n",
    "                'subsample': [0.5, 0.75, 1.0]}\n",
    "\n",
    "cv = KFold(n_splits=5,shuffle=True,random_state=1)\n",
    "optimal_params = RandomizedSearchCV(estimator=CatBoostRegressor(random_state=1, verbose=False),                                                       \n",
    "                             param_distributions = param_grid, n_iter = 200,\n",
    "                             verbose = 1,random_state = 1,\n",
    "                             n_jobs=-1,\n",
    "                             cv = cv)\n",
    "optimal_params.fit(X_train,y_train)\n",
    "print(\"Optimal parameter values =\", optimal_params.best_params_)\n",
    "print(\"Optimal cross validation R-squared = \",optimal_params.best_score_)\n",
    "print(\"Time taken = \", round((time.time()-start_time)/60), \" minutes\")"
   ]
  },
  {
   "cell_type": "code",
   "execution_count": null,
   "id": "dR2jdh9dBVue",
   "metadata": {
    "colab": {
     "base_uri": "https://localhost:8080/"
    },
    "executionInfo": {
     "elapsed": 3029,
     "status": "ok",
     "timestamp": 1684891654983,
     "user": {
      "displayName": "Abenezer Solomon",
      "userId": "12201282014134279159"
     },
     "user_tz": 300
    },
    "id": "dR2jdh9dBVue",
    "outputId": "28ceb030-38e8-42cc-f729-e08cc9a426e4"
   },
   "outputs": [],
   "source": [
    "# Instantiate the model with the provided parameters\n",
    "cat_model = CatBoostRegressor(subsample=0.75, \n",
    "                              reg_lambda=10, \n",
    "                              depth=6, \n",
    "                              n_estimators=1000, \n",
    "                              learning_rate=0.01,\n",
    "                              random_state=1, \n",
    "                              verbose=False)\n",
    "\n",
    "# Fit the model to your training data\n",
    "cat_model= TransformedTargetRegressor(cat_model, func = np.log, inverse_func = np.exp).fit(X_train, y_train)\n",
    "\n",
    "# Predict on your test set\n",
    "y_pred = cat_model.predict(X_test)  \n",
    "\n",
    "# Calculate MAE\n",
    "mae = mean_absolute_error(y_test, y_pred)  \n",
    "\n",
    "print('Mean Absolute Error:', mae)"
   ]
  },
  {
   "cell_type": "markdown",
   "id": "G2HSUV2vUP1W",
   "metadata": {
    "id": "G2HSUV2vUP1W"
   },
   "source": [
    "## Ensemble Model"
   ]
  },
  {
   "cell_type": "code",
   "execution_count": null,
   "id": "bcc158cc",
   "metadata": {
    "id": "bcc158cc"
   },
   "outputs": [],
   "source": [
    "#Voting ensemble: Averaging the predictions of all models\n",
    "en=VotingRegressor(estimators = [('xgb',xgb_model),('random_forest',random_forest_model),('mars',mars_model), ])\n",
    "en.fit(X_train,y_train)\n",
    "print(\"Ensemble model MAE = \", mean_absolute_error(en.predict(X_test),y_test))"
   ]
  },
  {
   "cell_type": "code",
   "execution_count": null,
   "id": "4de0a865",
   "metadata": {
    "id": "4de0a865"
   },
   "outputs": [],
   "source": [
    "#Stacking using LinearRegression as the metamodel\n",
    "en2 = StackingRegressor(estimators = [('xgb', xgb_model),('random_forest', random_forest_model),('mars', mars_model),('cat',cat_model)],\n",
    "                     final_estimator=LinearRegression(),                                          \n",
    "                    cv = KFold(n_splits = 5, shuffle = True, random_state=1))\n",
    "en2.fit(X_train,y_train)\n"
   ]
  },
  {
   "cell_type": "code",
   "execution_count": null,
   "id": "0f9f1899",
   "metadata": {
    "colab": {
     "base_uri": "https://localhost:8080/"
    },
    "executionInfo": {
     "elapsed": 1594,
     "status": "ok",
     "timestamp": 1684901225016,
     "user": {
      "displayName": "Abenezer Solomon",
      "userId": "12201282014134279159"
     },
     "user_tz": 300
    },
    "id": "0f9f1899",
    "outputId": "9560f3ec-f884-4eb8-c44f-c9c2b0f8b672"
   },
   "outputs": [
    {
     "name": "stdout",
     "output_type": "stream",
     "text": [
      "Linear regression metamodel MAE =  2854.33881663202\n"
     ]
    }
   ],
   "source": [
    "print(\"Linear regression metamodel MAE = \", mean_absolute_error(en2.predict(X_test),y_test))"
   ]
  },
  {
   "cell_type": "code",
   "execution_count": null,
   "id": "GAArfwi28ih1",
   "metadata": {
    "colab": {
     "base_uri": "https://localhost:8080/",
     "height": 203
    },
    "executionInfo": {
     "elapsed": 1160920,
     "status": "ok",
     "timestamp": 1684902579764,
     "user": {
      "displayName": "Abenezer Solomon",
      "userId": "12201282014134279159"
     },
     "user_tz": 300
    },
    "id": "GAArfwi28ih1",
    "outputId": "eaa4f23d-269e-4d7d-d8c8-a51ecea99e77"
   },
   "outputs": [
    {
     "data": {
      "text/html": [
       "<style>#sk-container-id-2 {color: black;background-color: white;}#sk-container-id-2 pre{padding: 0;}#sk-container-id-2 div.sk-toggleable {background-color: white;}#sk-container-id-2 label.sk-toggleable__label {cursor: pointer;display: block;width: 100%;margin-bottom: 0;padding: 0.3em;box-sizing: border-box;text-align: center;}#sk-container-id-2 label.sk-toggleable__label-arrow:before {content: \"▸\";float: left;margin-right: 0.25em;color: #696969;}#sk-container-id-2 label.sk-toggleable__label-arrow:hover:before {color: black;}#sk-container-id-2 div.sk-estimator:hover label.sk-toggleable__label-arrow:before {color: black;}#sk-container-id-2 div.sk-toggleable__content {max-height: 0;max-width: 0;overflow: hidden;text-align: left;background-color: #f0f8ff;}#sk-container-id-2 div.sk-toggleable__content pre {margin: 0.2em;color: black;border-radius: 0.25em;background-color: #f0f8ff;}#sk-container-id-2 input.sk-toggleable__control:checked~div.sk-toggleable__content {max-height: 200px;max-width: 100%;overflow: auto;}#sk-container-id-2 input.sk-toggleable__control:checked~label.sk-toggleable__label-arrow:before {content: \"▾\";}#sk-container-id-2 div.sk-estimator input.sk-toggleable__control:checked~label.sk-toggleable__label {background-color: #d4ebff;}#sk-container-id-2 div.sk-label input.sk-toggleable__control:checked~label.sk-toggleable__label {background-color: #d4ebff;}#sk-container-id-2 input.sk-hidden--visually {border: 0;clip: rect(1px 1px 1px 1px);clip: rect(1px, 1px, 1px, 1px);height: 1px;margin: -1px;overflow: hidden;padding: 0;position: absolute;width: 1px;}#sk-container-id-2 div.sk-estimator {font-family: monospace;background-color: #f0f8ff;border: 1px dotted black;border-radius: 0.25em;box-sizing: border-box;margin-bottom: 0.5em;}#sk-container-id-2 div.sk-estimator:hover {background-color: #d4ebff;}#sk-container-id-2 div.sk-parallel-item::after {content: \"\";width: 100%;border-bottom: 1px solid gray;flex-grow: 1;}#sk-container-id-2 div.sk-label:hover label.sk-toggleable__label {background-color: #d4ebff;}#sk-container-id-2 div.sk-serial::before {content: \"\";position: absolute;border-left: 1px solid gray;box-sizing: border-box;top: 0;bottom: 0;left: 50%;z-index: 0;}#sk-container-id-2 div.sk-serial {display: flex;flex-direction: column;align-items: center;background-color: white;padding-right: 0.2em;padding-left: 0.2em;position: relative;}#sk-container-id-2 div.sk-item {position: relative;z-index: 1;}#sk-container-id-2 div.sk-parallel {display: flex;align-items: stretch;justify-content: center;background-color: white;position: relative;}#sk-container-id-2 div.sk-item::before, #sk-container-id-2 div.sk-parallel-item::before {content: \"\";position: absolute;border-left: 1px solid gray;box-sizing: border-box;top: 0;bottom: 0;left: 50%;z-index: -1;}#sk-container-id-2 div.sk-parallel-item {display: flex;flex-direction: column;z-index: 1;position: relative;background-color: white;}#sk-container-id-2 div.sk-parallel-item:first-child::after {align-self: flex-end;width: 50%;}#sk-container-id-2 div.sk-parallel-item:last-child::after {align-self: flex-start;width: 50%;}#sk-container-id-2 div.sk-parallel-item:only-child::after {width: 0;}#sk-container-id-2 div.sk-dashed-wrapped {border: 1px dashed gray;margin: 0 0.4em 0.5em 0.4em;box-sizing: border-box;padding-bottom: 0.4em;background-color: white;}#sk-container-id-2 div.sk-label label {font-family: monospace;font-weight: bold;display: inline-block;line-height: 1.2em;}#sk-container-id-2 div.sk-label-container {text-align: center;}#sk-container-id-2 div.sk-container {/* jupyter's `normalize.less` sets `[hidden] { display: none; }` but bootstrap.min.css set `[hidden] { display: none !important; }` so we also need the `!important` here to be able to override the default hidden behavior on the sphinx rendered scikit-learn.org. See: https://github.com/scikit-learn/scikit-learn/issues/21755 */display: inline-block !important;position: relative;}#sk-container-id-2 div.sk-text-repr-fallback {display: none;}</style><div id=\"sk-container-id-2\" class=\"sk-top-container\"><div class=\"sk-text-repr-fallback\"><pre>StackingRegressor(cv=KFold(n_splits=5, random_state=1, shuffle=True),\n",
       "                  estimators=[(&#x27;xgb&#x27;,\n",
       "                               TransformedTargetRegressor(func=&lt;ufunc &#x27;log&#x27;&gt;,\n",
       "                                                          inverse_func=&lt;ufunc &#x27;exp&#x27;&gt;,\n",
       "                                                          regressor=XGBRegressor(base_score=None,\n",
       "                                                                                 booster=None,\n",
       "                                                                                 callbacks=None,\n",
       "                                                                                 colsample_bylevel=None,\n",
       "                                                                                 colsample_bynode=None,\n",
       "                                                                                 colsample_bytree=0.5,\n",
       "                                                                                 early_stopping_rounds=None,\n",
       "                                                                                 enable_categorical=False,\n",
       "                                                                                 eval_met...\n",
       "                                                          regressor=RandomForestRegressor(max_depth=20,\n",
       "                                                                                          max_features=10,\n",
       "                                                                                          n_estimators=400,\n",
       "                                                                                          oob_score=True))),\n",
       "                              (&#x27;mars&#x27;,\n",
       "                               TransformedTargetRegressor(func=&lt;ufunc &#x27;log&#x27;&gt;,\n",
       "                                                          inverse_func=&lt;ufunc &#x27;exp&#x27;&gt;,\n",
       "                                                          regressor=Earth(max_degree=2,\n",
       "                                                                          max_terms=500))),\n",
       "                              (&#x27;cat&#x27;,\n",
       "                               TransformedTargetRegressor(func=&lt;ufunc &#x27;log&#x27;&gt;,\n",
       "                                                          inverse_func=&lt;ufunc &#x27;exp&#x27;&gt;,\n",
       "                                                          regressor=&lt;catboost.core.CatBoostRegressor object at 0x7ff81dd49b40&gt;))],\n",
       "                  final_estimator=LassoCV())</pre><b>In a Jupyter environment, please rerun this cell to show the HTML representation or trust the notebook. <br />On GitHub, the HTML representation is unable to render, please try loading this page with nbviewer.org.</b></div><div class=\"sk-container\" hidden><div class=\"sk-item sk-dashed-wrapped\"><div class=\"sk-label-container\"><div class=\"sk-label sk-toggleable\"><input class=\"sk-toggleable__control sk-hidden--visually\" id=\"sk-estimator-id-4\" type=\"checkbox\" ><label for=\"sk-estimator-id-4\" class=\"sk-toggleable__label sk-toggleable__label-arrow\">StackingRegressor</label><div class=\"sk-toggleable__content\"><pre>StackingRegressor(cv=KFold(n_splits=5, random_state=1, shuffle=True),\n",
       "                  estimators=[(&#x27;xgb&#x27;,\n",
       "                               TransformedTargetRegressor(func=&lt;ufunc &#x27;log&#x27;&gt;,\n",
       "                                                          inverse_func=&lt;ufunc &#x27;exp&#x27;&gt;,\n",
       "                                                          regressor=XGBRegressor(base_score=None,\n",
       "                                                                                 booster=None,\n",
       "                                                                                 callbacks=None,\n",
       "                                                                                 colsample_bylevel=None,\n",
       "                                                                                 colsample_bynode=None,\n",
       "                                                                                 colsample_bytree=0.5,\n",
       "                                                                                 early_stopping_rounds=None,\n",
       "                                                                                 enable_categorical=False,\n",
       "                                                                                 eval_met...\n",
       "                                                          regressor=RandomForestRegressor(max_depth=20,\n",
       "                                                                                          max_features=10,\n",
       "                                                                                          n_estimators=400,\n",
       "                                                                                          oob_score=True))),\n",
       "                              (&#x27;mars&#x27;,\n",
       "                               TransformedTargetRegressor(func=&lt;ufunc &#x27;log&#x27;&gt;,\n",
       "                                                          inverse_func=&lt;ufunc &#x27;exp&#x27;&gt;,\n",
       "                                                          regressor=Earth(max_degree=2,\n",
       "                                                                          max_terms=500))),\n",
       "                              (&#x27;cat&#x27;,\n",
       "                               TransformedTargetRegressor(func=&lt;ufunc &#x27;log&#x27;&gt;,\n",
       "                                                          inverse_func=&lt;ufunc &#x27;exp&#x27;&gt;,\n",
       "                                                          regressor=&lt;catboost.core.CatBoostRegressor object at 0x7ff81dd49b40&gt;))],\n",
       "                  final_estimator=LassoCV())</pre></div></div></div><div class=\"sk-serial\"><div class=\"sk-item\"><div class=\"sk-parallel\"><div class=\"sk-parallel-item\"><div class=\"sk-item\"><div class=\"sk-label-container\"><div class=\"sk-label sk-toggleable\"><label>xgb</label></div></div><div class=\"sk-serial\"><div class=\"sk-item sk-dashed-wrapped\"><div class=\"sk-parallel\"><div class=\"sk-parallel-item\"><div class=\"sk-item\"><div class=\"sk-label-container\"><div class=\"sk-label sk-toggleable\"><input class=\"sk-toggleable__control sk-hidden--visually\" id=\"sk-estimator-id-5\" type=\"checkbox\" ><label for=\"sk-estimator-id-5\" class=\"sk-toggleable__label sk-toggleable__label-arrow\">regressor: XGBRegressor</label><div class=\"sk-toggleable__content\"><pre>XGBRegressor(base_score=None, booster=None, callbacks=None,\n",
       "             colsample_bylevel=None, colsample_bynode=None,\n",
       "             colsample_bytree=0.5, early_stopping_rounds=None,\n",
       "             enable_categorical=False,\n",
       "             eval_metric=&lt;function mean_absolute_error at 0x7ff74a62ed40&gt;,\n",
       "             feature_types=None, gamma=14, gpu_id=None, grow_policy=None,\n",
       "             importance_type=None, interaction_constraints=None,\n",
       "             learning_rate=0.001, max_bin=None, max_cat_threshold=None,\n",
       "             max_cat_to_onehot=None, max_delta_step=None, max_depth=5,\n",
       "             max_leaves=None, min_child_weight=None, missing=nan,\n",
       "             monotone_constraints=None, n_estimators=8290, n_jobs=None,\n",
       "             num_parallel_tree=None, predictor=None, random_state=1, ...)</pre></div></div></div><div class=\"sk-serial\"><div class=\"sk-item\"><div class=\"sk-estimator sk-toggleable\"><input class=\"sk-toggleable__control sk-hidden--visually\" id=\"sk-estimator-id-6\" type=\"checkbox\" ><label for=\"sk-estimator-id-6\" class=\"sk-toggleable__label sk-toggleable__label-arrow\">XGBRegressor</label><div class=\"sk-toggleable__content\"><pre>XGBRegressor(base_score=None, booster=None, callbacks=None,\n",
       "             colsample_bylevel=None, colsample_bynode=None,\n",
       "             colsample_bytree=0.5, early_stopping_rounds=None,\n",
       "             enable_categorical=False,\n",
       "             eval_metric=&lt;function mean_absolute_error at 0x7ff74a62ed40&gt;,\n",
       "             feature_types=None, gamma=14, gpu_id=None, grow_policy=None,\n",
       "             importance_type=None, interaction_constraints=None,\n",
       "             learning_rate=0.001, max_bin=None, max_cat_threshold=None,\n",
       "             max_cat_to_onehot=None, max_delta_step=None, max_depth=5,\n",
       "             max_leaves=None, min_child_weight=None, missing=nan,\n",
       "             monotone_constraints=None, n_estimators=8290, n_jobs=None,\n",
       "             num_parallel_tree=None, predictor=None, random_state=1, ...)</pre></div></div></div></div></div></div></div></div></div></div></div><div class=\"sk-parallel-item\"><div class=\"sk-item\"><div class=\"sk-label-container\"><div class=\"sk-label sk-toggleable\"><label>random_forest</label></div></div><div class=\"sk-serial\"><div class=\"sk-item sk-dashed-wrapped\"><div class=\"sk-parallel\"><div class=\"sk-parallel-item\"><div class=\"sk-item\"><div class=\"sk-label-container\"><div class=\"sk-label sk-toggleable\"><input class=\"sk-toggleable__control sk-hidden--visually\" id=\"sk-estimator-id-7\" type=\"checkbox\" ><label for=\"sk-estimator-id-7\" class=\"sk-toggleable__label sk-toggleable__label-arrow\">regressor: RandomForestRegressor</label><div class=\"sk-toggleable__content\"><pre>RandomForestRegressor(max_depth=20, max_features=10, n_estimators=400,\n",
       "                      oob_score=True)</pre></div></div></div><div class=\"sk-serial\"><div class=\"sk-item\"><div class=\"sk-estimator sk-toggleable\"><input class=\"sk-toggleable__control sk-hidden--visually\" id=\"sk-estimator-id-8\" type=\"checkbox\" ><label for=\"sk-estimator-id-8\" class=\"sk-toggleable__label sk-toggleable__label-arrow\">RandomForestRegressor</label><div class=\"sk-toggleable__content\"><pre>RandomForestRegressor(max_depth=20, max_features=10, n_estimators=400,\n",
       "                      oob_score=True)</pre></div></div></div></div></div></div></div></div></div></div></div><div class=\"sk-parallel-item\"><div class=\"sk-item\"><div class=\"sk-label-container\"><div class=\"sk-label sk-toggleable\"><label>mars</label></div></div><div class=\"sk-serial\"><div class=\"sk-item sk-dashed-wrapped\"><div class=\"sk-parallel\"><div class=\"sk-parallel-item\"><div class=\"sk-item\"><div class=\"sk-label-container\"><div class=\"sk-label sk-toggleable\"><input class=\"sk-toggleable__control sk-hidden--visually\" id=\"sk-estimator-id-9\" type=\"checkbox\" ><label for=\"sk-estimator-id-9\" class=\"sk-toggleable__label sk-toggleable__label-arrow\">regressor: Earth</label><div class=\"sk-toggleable__content\"><pre>Earth(max_degree=2, max_terms=500)</pre></div></div></div><div class=\"sk-serial\"><div class=\"sk-item\"><div class=\"sk-estimator sk-toggleable\"><input class=\"sk-toggleable__control sk-hidden--visually\" id=\"sk-estimator-id-10\" type=\"checkbox\" ><label for=\"sk-estimator-id-10\" class=\"sk-toggleable__label sk-toggleable__label-arrow\">Earth</label><div class=\"sk-toggleable__content\"><pre>Earth(max_degree=2, max_terms=500)</pre></div></div></div></div></div></div></div></div></div></div></div><div class=\"sk-parallel-item\"><div class=\"sk-item\"><div class=\"sk-label-container\"><div class=\"sk-label sk-toggleable\"><label>cat</label></div></div><div class=\"sk-serial\"><div class=\"sk-item sk-dashed-wrapped\"><div class=\"sk-parallel\"><div class=\"sk-parallel-item\"><div class=\"sk-item\"><div class=\"sk-label-container\"><div class=\"sk-label sk-toggleable\"><input class=\"sk-toggleable__control sk-hidden--visually\" id=\"sk-estimator-id-11\" type=\"checkbox\" ><label for=\"sk-estimator-id-11\" class=\"sk-toggleable__label sk-toggleable__label-arrow\">regressor: CatBoostRegressor</label><div class=\"sk-toggleable__content\"><pre>&lt;catboost.core.CatBoostRegressor object at 0x7ff81dd49b40&gt;</pre></div></div></div><div class=\"sk-serial\"><div class=\"sk-item\"><div class=\"sk-estimator sk-toggleable\"><input class=\"sk-toggleable__control sk-hidden--visually\" id=\"sk-estimator-id-12\" type=\"checkbox\" ><label for=\"sk-estimator-id-12\" class=\"sk-toggleable__label sk-toggleable__label-arrow\">CatBoostRegressor</label><div class=\"sk-toggleable__content\"><pre>&lt;catboost.core.CatBoostRegressor object at 0x7ff81dd49b40&gt;</pre></div></div></div></div></div></div></div></div></div></div></div></div></div><div class=\"sk-item\"><div class=\"sk-parallel\"><div class=\"sk-parallel-item\"><div class=\"sk-item\"><div class=\"sk-label-container\"><div class=\"sk-label sk-toggleable\"><label>final_estimator</label></div></div><div class=\"sk-serial\"><div class=\"sk-item\"><div class=\"sk-estimator sk-toggleable\"><input class=\"sk-toggleable__control sk-hidden--visually\" id=\"sk-estimator-id-13\" type=\"checkbox\" ><label for=\"sk-estimator-id-13\" class=\"sk-toggleable__label sk-toggleable__label-arrow\">LassoCV</label><div class=\"sk-toggleable__content\"><pre>LassoCV()</pre></div></div></div></div></div></div></div></div></div></div></div></div>"
      ],
      "text/plain": [
       "StackingRegressor(cv=KFold(n_splits=5, random_state=1, shuffle=True),\n",
       "                  estimators=[('xgb',\n",
       "                               TransformedTargetRegressor(func=<ufunc 'log'>,\n",
       "                                                          inverse_func=<ufunc 'exp'>,\n",
       "                                                          regressor=XGBRegressor(base_score=None,\n",
       "                                                                                 booster=None,\n",
       "                                                                                 callbacks=None,\n",
       "                                                                                 colsample_bylevel=None,\n",
       "                                                                                 colsample_bynode=None,\n",
       "                                                                                 colsample_bytree=0.5,\n",
       "                                                                                 early_stopping_rounds=None,\n",
       "                                                                                 enable_categorical=False,\n",
       "                                                                                 eval_met...\n",
       "                                                          regressor=RandomForestRegressor(max_depth=20,\n",
       "                                                                                          max_features=10,\n",
       "                                                                                          n_estimators=400,\n",
       "                                                                                          oob_score=True))),\n",
       "                              ('mars',\n",
       "                               TransformedTargetRegressor(func=<ufunc 'log'>,\n",
       "                                                          inverse_func=<ufunc 'exp'>,\n",
       "                                                          regressor=Earth(max_degree=2,\n",
       "                                                                          max_terms=500))),\n",
       "                              ('cat',\n",
       "                               TransformedTargetRegressor(func=<ufunc 'log'>,\n",
       "                                                          inverse_func=<ufunc 'exp'>,\n",
       "                                                          regressor=<catboost.core.CatBoostRegressor object at 0x7ff81dd49b40>))],\n",
       "                  final_estimator=LassoCV())"
      ]
     },
     "execution_count": 43,
     "metadata": {},
     "output_type": "execute_result"
    }
   ],
   "source": [
    "#Stacking using Lasso as the metamodel\n",
    "en3 = StackingRegressor(estimators = [('xgb', xgb_model),('random_forest', random_forest_model),('mars', mars_model),('cat',cat_model)],\n",
    "                     final_estimator=LassoCV(),                                          \n",
    "                    cv = KFold(n_splits = 5, shuffle = True, random_state=1))\n",
    "en3.fit(X_train,y_train)\n"
   ]
  },
  {
   "cell_type": "code",
   "execution_count": null,
   "id": "bHGqkP048vmp",
   "metadata": {
    "colab": {
     "base_uri": "https://localhost:8080/"
    },
    "executionInfo": {
     "elapsed": 956,
     "status": "ok",
     "timestamp": 1684903676966,
     "user": {
      "displayName": "Abenezer Solomon",
      "userId": "12201282014134279159"
     },
     "user_tz": 300
    },
    "id": "bHGqkP048vmp",
    "outputId": "24e6624a-c3f7-4f10-be37-11bcfac078f2"
   },
   "outputs": [
    {
     "name": "stdout",
     "output_type": "stream",
     "text": [
      "Lasso metamodel RMSE =  2850.4961450500055\n"
     ]
    }
   ],
   "source": [
    "print(\"Lasso metamodel RMSE = \", mean_absolute_error(en3.predict(X_test),y_test))"
   ]
  }
 ],
 "metadata": {
  "colab": {
   "provenance": []
  },
  "kernelspec": {
   "display_name": "Python 3 (ipykernel)",
   "language": "python",
   "name": "python3"
  },
  "language_info": {
   "codemirror_mode": {
    "name": "ipython",
    "version": 3
   },
   "file_extension": ".py",
   "mimetype": "text/x-python",
   "name": "python",
   "nbconvert_exporter": "python",
   "pygments_lexer": "ipython3",
   "version": "3.9.13"
  }
 },
 "nbformat": 4,
 "nbformat_minor": 5
}
