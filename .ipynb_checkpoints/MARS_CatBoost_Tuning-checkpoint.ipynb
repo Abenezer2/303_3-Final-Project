{
 "cells": [
  {
   "cell_type": "code",
   "execution_count": 1,
   "id": "029b801d",
   "metadata": {},
   "outputs": [],
   "source": [
    "import pandas as pd\n",
    "import numpy as np\n",
    "import seaborn as sns\n",
    "import matplotlib.pyplot as plt\n",
    "from sklearn.metrics import mean_squared_error\n",
    "from sklearn.model_selection import cross_val_score,train_test_split, KFold, cross_val_predict\n",
    "from sklearn.metrics import mean_absolute_error,r2_score,roc_curve,auc,precision_recall_curve, accuracy_score, \\\n",
    "recall_score, precision_score, confusion_matrix\n",
    "from sklearn.tree import DecisionTreeRegressor,DecisionTreeClassifier\n",
    "from sklearn.model_selection import GridSearchCV, ParameterGrid, StratifiedKFold\n",
    "from sklearn.ensemble import VotingRegressor, VotingClassifier, StackingRegressor, StackingClassifier, GradientBoostingRegressor,GradientBoostingClassifier, BaggingRegressor,BaggingClassifier,RandomForestRegressor,RandomForestClassifier,AdaBoostRegressor,AdaBoostClassifier\n",
    "from sklearn.linear_model import LinearRegression,LogisticRegression, LassoCV, RidgeCV, ElasticNetCV\n",
    "from sklearn.neighbors import KNeighborsRegressor\n",
    "import itertools as it\n",
    "import time as time\n",
    "import xgboost as xgb\n",
    "from pyearth import Earth\n",
    "from sklearn.model_selection import train_test_split, cross_val_predict, cross_val_score"
   ]
  },
  {
   "cell_type": "code",
   "execution_count": 2,
   "id": "c9b28700",
   "metadata": {},
   "outputs": [],
   "source": [
    "data = pd.read_csv('OnlineNewsPopularity/OnlineNewsPopularity.csv')\n",
    "data.columns = [x.strip() for x in data.columns.tolist()]\n",
    "X = data.drop(columns = ['url', 'timedelta', 'shares'])\n",
    "y = data['shares']\n",
    "X_train, X_test, y_train, y_test = train_test_split(X, y, test_size = 0.2, random_state = 45)"
   ]
  },
  {
   "cell_type": "code",
   "execution_count": 3,
   "id": "1beb4476",
   "metadata": {},
   "outputs": [],
   "source": [
    "X_train = X_train.drop(columns = ['weekday_is_monday',\n",
    " 'weekday_is_saturday',\n",
    " 'LDA_00',\n",
    " 'n_unique_tokens',\n",
    " 'n_non_stop_words',\n",
    " 'self_reference_avg_sharess',\n",
    " 'rate_positive_words',\n",
    " 'LDA_04',\n",
    " 'LDA_02',\n",
    " 'kw_max_max',\n",
    " 'kw_avg_min',\n",
    " 'kw_avg_avg',\n",
    " 'rate_negative_words',\n",
    " 'min_negative_polarity'])"
   ]
  },
  {
   "cell_type": "code",
   "execution_count": null,
   "id": "48dccfe9",
   "metadata": {},
   "outputs": [
    {
     "name": "stdout",
     "output_type": "stream",
     "text": [
      "Fitting 5 folds for each of 12 candidates, totalling 60 fits\n"
     ]
    }
   ],
   "source": [
    "from sklearn.model_selection import GridSearchCV, KFold\n",
    "from pyearth import Earth\n",
    "\n",
    "# Define the model\n",
    "mars_model = Earth()\n",
    "\n",
    "# Define the parameters\n",
    "parameters = {'max_terms': [300,500,1000],\n",
    "              'max_degree': [1,2,3,4]}\n",
    "\n",
    "# Define the cross-validator\n",
    "CV = KFold(n_splits = 5, shuffle=True, random_state=1)\n",
    "\n",
    "# Initialize the GridSearchCV object\n",
    "model = GridSearchCV(estimator=mars_model, \n",
    "                     param_grid=parameters, \n",
    "                     cv=CV, \n",
    "                     n_jobs=-1, \n",
    "                     verbose=1, \n",
    "                     scoring='neg_mean_absolute_error')\n",
    "\n",
    "# Fit the GridSearchCV object to the data\n",
    "model.fit(X_train, y_train)  \n",
    "\n",
    "# Print the best score and best parameters\n",
    "print('Best score:', model.best_score_)\n",
    "print('Best parameters:', model.best_params_)"
   ]
  },
  {
   "cell_type": "code",
   "execution_count": null,
   "id": "4c1b39d5",
   "metadata": {},
   "outputs": [],
   "source": [
    "mars_model = Earth(max_terms = 300, max_degree = 1)\n",
    "mars_model = TransformedTargetRegressor(mars_model, func = np.log, inverse_func = np.exp).fit(X_train, y_train)"
   ]
  },
  {
   "cell_type": "code",
   "execution_count": null,
   "id": "adeefc4c",
   "metadata": {},
   "outputs": [],
   "source": [
    "#K-fold cross validation to find optimal parameters for CatBoost regressor\n",
    "start_time = time.time()\n",
    "param_grid = {'max_depth': [4,6,8],\n",
    "              'num_leaves': [20, 31, 40],\n",
    "              'learning_rate': [0.01, 0.05, 0.1],\n",
    "               'reg_lambda':[0, 10, 100],\n",
    "                'n_estimators':[100, 500, 1000],\n",
    "                'subsample': [0.5, 0.75, 1.0]}\n",
    "\n",
    "cv = KFold(n_splits=5,shuffle=True,random_state=1)\n",
    "optimal_params = RandomizedSearchCV(estimator=CatBoostRegressor(random_state=1, verbose=False),                                                       \n",
    "                             param_distributions = param_grid, n_iter = 200,\n",
    "                             verbose = 1,random_state = 1,\n",
    "                             n_jobs=-1,\n",
    "                             cv = cv)\n",
    "optimal_params.fit(X_train,y_train)\n",
    "print(\"Optimal parameter values =\", optimal_params.best_params_)\n",
    "print(\"Optimal cross validation R-squared = \",optimal_params.best_score_)\n",
    "print(\"Time taken = \", round((time.time()-start_time)/60), \" minutes\")"
   ]
  },
  {
   "cell_type": "code",
   "execution_count": null,
   "id": "ff5a9c33",
   "metadata": {},
   "outputs": [],
   "source": [
    "# Instantiate the model with the provided parameters\n",
    "cat_model = CatBoostRegressor(subsample = 0.75, reg_lambda=10, \n",
    "                              depth=6, \n",
    "                              n_estimators=1000, \n",
    "                              learning_rate=0.01,\n",
    "                              random_state=1, \n",
    "                              verbose=False)\n",
    "\n",
    "# Fit the model to your training data\n",
    "cat_model= TransformedTargetRegressor(cat_model, func = np.log, inverse_func = np.exp).fit(X_train, y_train)\n",
    "\n",
    "# Predict on your test set\n",
    "y_pred = cat_model.predict(X_test)  \n",
    "\n",
    "# Calculate MAE\n",
    "mae = mean_absolute_error(y_test, y_pred)  \n",
    "\n",
    "print('Mean Absolute Error:', mae)"
   ]
  }
 ],
 "metadata": {
  "kernelspec": {
   "display_name": "Python 3 (ipykernel)",
   "language": "python",
   "name": "python3"
  },
  "language_info": {
   "codemirror_mode": {
    "name": "ipython",
    "version": 3
   },
   "file_extension": ".py",
   "mimetype": "text/x-python",
   "name": "python",
   "nbconvert_exporter": "python",
   "pygments_lexer": "ipython3",
   "version": "3.9.13"
  }
 },
 "nbformat": 4,
 "nbformat_minor": 5
}
